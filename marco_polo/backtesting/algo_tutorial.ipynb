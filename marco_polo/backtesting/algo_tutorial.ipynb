{
 "cells": [
  {
   "cell_type": "code",
   "execution_count": 4,
   "metadata": {},
   "outputs": [],
   "source": [
    "import alpaca_trade_api as tradeapi\n",
    "import concurrent.futures\n",
    "from datetime import datetime, timedelta\n",
    "import pandas as pd\n",
    "from market_data import DataFetcher\n",
    "import backtest\n",
    "import talib as ta"
   ]
  },
  {
   "cell_type": "markdown",
   "metadata": {},
   "source": [
    "# Before writing an algorithm, read this notebook to understand how a backtest is run"
   ]
  },
  {
   "cell_type": "code",
   "execution_count": 5,
   "metadata": {},
   "outputs": [],
   "source": [
    "# Intializing some backtesting stuff\n",
    "universe = ['AAPL', 'MMM', 'ABT', 'ABBV', 'ACN', 'ATVI', 'AYI', 'ADBE', 'AMD', 'AAP', 'AES', 'AET', 'AMG', 'AFL']\n",
    "initial_cash = 30000 # This can be any amount you want. For the sake of this notebook it doesn't really matter\n",
    "start_date = '2019-1-1'\n",
    "end_date = '2019-2-12'\n",
    "algorithm_name = '<your algo>' # Not relevant for this tutorial\n",
    "bt = backtest.Backtest(algorithm_name, initial_cash, universe, start_date, end_date)"
   ]
  },
  {
   "cell_type": "markdown",
   "metadata": {},
   "source": [
    "## price_map contains a python dictionary where each key is a stock symbol refering to a pandas DF where each row contains daily data for a day between the start and end date"
   ]
  },
  {
   "cell_type": "code",
   "execution_count": 6,
   "metadata": {},
   "outputs": [
    {
     "name": "stderr",
     "output_type": "stream",
     "text": [
      "INFO:backtest:Fetching Data...\n",
      "INFO:backtest:Complete.\n"
     ]
    },
    {
     "name": "stdout",
     "output_type": "stream",
     "text": [
      "              open    high       low   close    volume\n",
      "2019-02-06  174.65  175.57  172.8531  174.24  28239591\n",
      "2019-02-07  172.40  173.94  170.3400  170.94  31741690\n",
      "2019-02-08  168.99  170.66  168.4200  170.41  23819966\n",
      "2019-02-11  171.05  171.21  169.2500  169.43  20993425\n",
      "2019-02-12  170.10  171.00  169.7000  170.89  22283523\n"
     ]
    }
   ],
   "source": [
    "price_map = bt.set_historical_data()\n",
    "price_map = bt.universe_data\n",
    "print (price_map['AAPL'].tail()) # Each symbol refers to a dataframe with basic daily data for each day"
   ]
  },
  {
   "cell_type": "markdown",
   "metadata": {},
   "source": [
    "## Below we have a dataframe consisting of daily data for a single day where each row corresponds to a specific stock"
   ]
  },
  {
   "cell_type": "markdown",
   "metadata": {},
   "source": [
    "# \\*\\*\\* Below we will implement the functions needed for our Strategy\n",
    "\n",
    "### The functions we need are add_tech_ind(price_map), rank_stocks(daily_data) , stocks_to_buy(portfolio, daily_data) and stocks_to_sell(portfolio, daily_data)\n"
   ]
  },
  {
   "cell_type": "markdown",
   "metadata": {},
   "source": [
    "### *add_tech_ind(price_map)* takes the price map that we see printed out above and for each symbol in the price_map you can add techincal indicators which can be used to determine whether or not to buy or sell a stock"
   ]
  },
  {
   "cell_type": "code",
   "execution_count": 7,
   "metadata": {},
   "outputs": [],
   "source": [
    "# Visit for technical indicator documentation: http://mrjbq7.github.io/ta-lib/funcs.html\n",
    "def add_tech_ind(price_map):\n",
    "    new_price_map = {}\n",
    "\n",
    "    for symbol in price_map:\n",
    "        symbol_data = price_map[symbol]\n",
    "        symbol_data['ema_50'] = ta.EMA(symbol_data['open'], timeperiod=50)\n",
    "        symbol_data['ema_open_pct_diff'] = (symbol_data['ema_50'] - symbol_data['open']) / symbol_data['open']\n",
    "        new_price_map[symbol] = symbol_data\n",
    "\n",
    "    return new_price_map"
   ]
  },
  {
   "cell_type": "markdown",
   "metadata": {},
   "source": [
    "## Below is what our new price_map looks like with our new columns"
   ]
  },
  {
   "cell_type": "code",
   "execution_count": 8,
   "metadata": {},
   "outputs": [
    {
     "name": "stdout",
     "output_type": "stream",
     "text": [
      "              open    high       low   close    volume      ema_50  \\\n",
      "2019-02-06  174.65  175.57  172.8531  174.24  28239591  166.660432   \n",
      "2019-02-07  172.40  173.94  170.3400  170.94  31741690  166.885513   \n",
      "2019-02-08  168.99  170.66  168.4200  170.41  23819966  166.968042   \n",
      "2019-02-11  171.05  171.21  169.2500  169.43  20993425  167.128119   \n",
      "2019-02-12  170.10  171.00  169.7000  170.89  22283523  167.244663   \n",
      "\n",
      "            ema_open_pct_diff  \n",
      "2019-02-06          -0.045746  \n",
      "2019-02-07          -0.031987  \n",
      "2019-02-08          -0.011965  \n",
      "2019-02-11          -0.022928  \n",
      "2019-02-12          -0.016786  \n"
     ]
    }
   ],
   "source": [
    "new_price_map = add_tech_ind(price_map)\n",
    "print (new_price_map['AAPL'].tail())"
   ]
  },
  {
   "cell_type": "markdown",
   "metadata": {},
   "source": [
    "### This is what the daily data looks like for an arbitrary day that gets fed into stocks_to_buy(), and stocks_to_sell()"
   ]
  },
  {
   "cell_type": "code",
   "execution_count": 9,
   "metadata": {},
   "outputs": [
    {
     "name": "stdout",
     "output_type": "stream",
     "text": [
      "         close      ema_50  ema_open_pct_diff    high       low    open  \\\n",
      "symbol                                                                    \n",
      "ACN     140.59  154.766376           0.113988  141.19  138.2800  138.93   \n",
      "AAPL    157.92  179.925147           0.161632  158.85  154.2300  154.89   \n",
      "MMM     190.95  196.816707           0.047901  190.99  186.7000  187.82   \n",
      "ABBV     89.23   88.262546          -0.032633   91.26   88.4200   91.24   \n",
      "ATVI     47.03   54.392940           0.202054   47.51   45.1367   45.25   \n",
      "ABT      69.50   70.002553          -0.005504   70.96   69.0700   70.39   \n",
      "AYI     115.23  121.655246           0.075548  116.18  111.7100  113.11   \n",
      "ADBE    224.57  236.760889           0.076626  226.17  219.0000  219.91   \n",
      "AMD      18.83   20.350917           0.129979   19.00   17.9800   18.01   \n",
      "AES      14.18   14.906285           0.044589   14.31   14.1000   14.27   \n",
      "AAP     157.92  164.619063           0.054169  159.92  153.8200  156.16   \n",
      "AMG      98.23  108.351026           0.134209   99.58   95.1200   95.53   \n",
      "AFL      45.52   44.424865          -0.003703   45.58   44.5300   44.59   \n",
      "\n",
      "            volume  \n",
      "symbol              \n",
      "ACN      2059602.0  \n",
      "AAPL    37039737.0  \n",
      "MMM      2475193.0  \n",
      "ABBV     6908424.0  \n",
      "ATVI     7245714.0  \n",
      "ABT      8737216.0  \n",
      "AYI       465800.0  \n",
      "ADBE     2784109.0  \n",
      "AMD     87148693.0  \n",
      "AES      5577757.0  \n",
      "AAP      1290990.0  \n",
      "AMG       540714.0  \n",
      "AFL      4022076.0  \n"
     ]
    }
   ],
   "source": [
    "bt.universe_data = new_price_map\n",
    "daily_data_dict = bt.daily_data_dict()\n",
    "start_date_dt = datetime.strptime(start_date, '%Y-%m-%d').date() + timedelta(days=1)\n",
    "print(daily_data_dict[start_date_dt])"
   ]
  },
  {
   "cell_type": "markdown",
   "metadata": {},
   "source": [
    "### When the backtester runs each day it will feed data into stocks_to_buy(), and stocks_to_sell(). rank_stocks() is a helper function that stocks_to_buy(), and stocks_to_sell() calls to help determine which stocks to buy and which stocks to sell\n",
    "\n",
    "In our rank_stocks() function below, we rank the stocks in descending order by the ema_open_pct_diff coloumn."
   ]
  },
  {
   "cell_type": "code",
   "execution_count": 10,
   "metadata": {},
   "outputs": [],
   "source": [
    "def rank_stocks(daily_data):\n",
    "    sorted_daily_data = daily_data.sort_values('ema_open_pct_diff', ascending=False)\n",
    "    return sorted_daily_data"
   ]
  },
  {
   "cell_type": "markdown",
   "metadata": {},
   "source": [
    "### Below you will notice that both functions take a parameter called portfolio. Each day of the backtest, the backtester will send this to your functions to tell your algo which stocks you own already\n",
    "\n",
    "Ex: portfolio = ['AAPL', 'MMM', 'ABT', 'ABBV', 'ACN']\n",
    "\n",
    "stocks_to_buy() calls rank_stocks() and buys the top 5 ranked stocks, or if we already own one of those stocks it holds it.\n",
    "\n",
    "stocks_to_sell() calls rank_stocks() and if the stocks in our portfolio aren't in the top 5 returned from rank_stocks() it sells them.\n",
    "\n"
   ]
  },
  {
   "cell_type": "code",
   "execution_count": 11,
   "metadata": {},
   "outputs": [],
   "source": [
    "def stocks_to_buy(portfolio, daily_data):\n",
    "    # Return an array of tuples with symbol and buy price\n",
    "    # [('AAPL', 172.00), (BBUY, 30.00)]\n",
    "\n",
    "    ''' Retrieve the top five stocks with the largest pct change between its open price and 50 day EMA '''\n",
    "    sorted_daily_data = rank_stocks(daily_data)\n",
    "    symbols = sorted_daily_data.head(5).index\n",
    "\n",
    "    buy_orders = []\n",
    "    for symbol in symbols:\n",
    "        ''' The buy price is the open price because this algo checks to buy in the morning '''\n",
    "        if symbol not in portfolio:\n",
    "            order_tup = (symbol, sorted_daily_data.loc[symbol, 'open'])\n",
    "            buy_orders.append(order_tup)\n",
    "\n",
    "    return buy_orders\n",
    "\n",
    "def stocks_to_sell(portfolio, daily_data):\n",
    "    # Return an array of tuples with symbol and sell price\n",
    "    # [('AAPL', 172.00), (BBUY, 30.00)]\n",
    "    sorted_daily_data = rank_stocks(daily_data)\n",
    "    buy_symbols = sorted_daily_data.head(5).index\n",
    "\n",
    "    sell_orders = []\n",
    "    for symbol in portfolio:\n",
    "        if symbol not in buy_symbols:\n",
    "            order_tup = (symbol, sorted_daily_data.loc[symbol, 'open'])\n",
    "            sell_orders.append(order_tup)\n",
    "\n",
    "    return sell_orders"
   ]
  },
  {
   "cell_type": "markdown",
   "metadata": {},
   "source": [
    "### Below we will run a test to make sure our functions work properly. We will start with an arbitrary portfolio and daily data for a random day\n",
    "\n",
    "Our stocks_to_buy() function returns three new stocks to buy and the prices that we will buy them at"
   ]
  },
  {
   "cell_type": "code",
   "execution_count": 2,
   "metadata": {},
   "outputs": [
    {
     "ename": "NameError",
     "evalue": "name 'daily_data_dict' is not defined",
     "traceback": [
      "\u001b[0;31m---------------------------------------------------------------------------\u001b[0m",
      "\u001b[0;31mNameError\u001b[0m                                 Traceback (most recent call last)",
      "\u001b[0;32m<ipython-input-2-3c57aa9d9283>\u001b[0m in \u001b[0;36m<module>\u001b[0;34m()\u001b[0m\n\u001b[1;32m      1\u001b[0m \u001b[0mportfolio\u001b[0m \u001b[0;34m=\u001b[0m \u001b[0;34m[\u001b[0m\u001b[0;34m'AAPL'\u001b[0m\u001b[0;34m,\u001b[0m \u001b[0;34m'MMM'\u001b[0m\u001b[0;34m,\u001b[0m \u001b[0;34m'ABT'\u001b[0m\u001b[0;34m,\u001b[0m \u001b[0;34m'ABBV'\u001b[0m\u001b[0;34m,\u001b[0m \u001b[0;34m'ACN'\u001b[0m\u001b[0;34m]\u001b[0m\u001b[0;34m\u001b[0m\u001b[0m\n\u001b[0;32m----> 2\u001b[0;31m \u001b[0mdaily_data\u001b[0m \u001b[0;34m=\u001b[0m \u001b[0mdaily_data_dict\u001b[0m\u001b[0;34m[\u001b[0m\u001b[0mstart_date_dt\u001b[0m\u001b[0;34m]\u001b[0m\u001b[0;34m\u001b[0m\u001b[0m\n\u001b[0m\u001b[1;32m      3\u001b[0m \u001b[0msell_stocks\u001b[0m \u001b[0;34m=\u001b[0m \u001b[0mstocks_to_sell\u001b[0m\u001b[0;34m(\u001b[0m\u001b[0mportfolio\u001b[0m\u001b[0;34m,\u001b[0m \u001b[0mdaily_data\u001b[0m\u001b[0;34m)\u001b[0m\u001b[0;34m\u001b[0m\u001b[0m\n\u001b[1;32m      4\u001b[0m \u001b[0mprint\u001b[0m\u001b[0;34m(\u001b[0m\u001b[0msell_stocks\u001b[0m\u001b[0;34m)\u001b[0m\u001b[0;34m\u001b[0m\u001b[0m\n",
      "\u001b[0;31mNameError\u001b[0m: name 'daily_data_dict' is not defined"
     ],
     "output_type": "error"
    }
   ],
   "source": [
    "portfolio = ['AAPL', 'MMM', 'ABT', 'ABBV', 'ACN']\n",
    "daily_data = daily_data_dict[start_date_dt]\n",
    "sell_stocks = stocks_to_sell(portfolio, daily_data)\n",
    "print(sell_stocks)"
   ]
  },
  {
   "cell_type": "code",
   "execution_count": 3,
   "metadata": {},
   "outputs": [
    {
     "ename": "NameError",
     "evalue": "name 'stocks_to_buy' is not defined",
     "traceback": [
      "\u001b[0;31m---------------------------------------------------------------------------\u001b[0m",
      "\u001b[0;31mNameError\u001b[0m                                 Traceback (most recent call last)",
      "\u001b[0;32m<ipython-input-3-4b5d1557b202>\u001b[0m in \u001b[0;36m<module>\u001b[0;34m()\u001b[0m\n\u001b[1;32m      1\u001b[0m \u001b[0mnew_portfolio\u001b[0m \u001b[0;34m=\u001b[0m \u001b[0;34m[\u001b[0m\u001b[0;34m'AAPL'\u001b[0m\u001b[0;34m,\u001b[0m \u001b[0;34m'ACN'\u001b[0m\u001b[0;34m]\u001b[0m\u001b[0;31m# Manually updated here, but backtester will update automatically\u001b[0m\u001b[0;34m\u001b[0m\u001b[0m\n\u001b[0;32m----> 2\u001b[0;31m \u001b[0mbuy_stocks\u001b[0m \u001b[0;34m=\u001b[0m \u001b[0mstocks_to_buy\u001b[0m\u001b[0;34m(\u001b[0m\u001b[0mnew_portfolio\u001b[0m\u001b[0;34m,\u001b[0m \u001b[0mdaily_data\u001b[0m\u001b[0;34m)\u001b[0m\u001b[0;34m\u001b[0m\u001b[0m\n\u001b[0m\u001b[1;32m      3\u001b[0m \u001b[0mprint\u001b[0m\u001b[0;34m(\u001b[0m\u001b[0mbuy_stocks\u001b[0m\u001b[0;34m)\u001b[0m\u001b[0;34m\u001b[0m\u001b[0m\n",
      "\u001b[0;31mNameError\u001b[0m: name 'stocks_to_buy' is not defined"
     ],
     "output_type": "error"
    }
   ],
   "source": [
    "new_portfolio = ['AAPL', 'ACN']# Manually updated here, but backtester will update automatically\n",
    "buy_stocks = stocks_to_buy(new_portfolio, daily_data)\n",
    "print(buy_stocks)"
   ]
  },
  {
   "cell_type": "markdown",
   "metadata": {},
   "source": [
    "## We have no errors during testing, so now you can go ahead and make a class and add these functions to it and run a real backtest!"
   ]
  }
 ],
 "metadata": {
  "kernelspec": {
   "display_name": "Python 3",
   "language": "python",
   "name": "python3"
  },
  "language_info": {
   "codemirror_mode": {
    "name": "ipython",
    "version": 3
   },
   "file_extension": ".py",
   "mimetype": "text/x-python",
   "name": "python",
   "nbconvert_exporter": "python",
   "pygments_lexer": "ipython3",
   "version": "3.6.0"
  }
 },
 "nbformat": 4,
 "nbformat_minor": 2
}
